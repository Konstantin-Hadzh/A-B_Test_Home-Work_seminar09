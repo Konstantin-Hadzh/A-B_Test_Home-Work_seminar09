{
 "cells": [
  {
   "cell_type": "code",
   "execution_count": 75,
   "metadata": {
    "colab": {
     "base_uri": "https://localhost:8080/"
    },
    "id": "zgu8q4bmC_RN",
    "outputId": "6d304021-6a0e-4001-838d-ecbbcfe176fa"
   },
   "outputs": [
    {
     "name": "stdout",
     "output_type": "stream",
     "text": [
      "Requirement already satisfied: watermark in /Library/Frameworks/Python.framework/Versions/3.11/lib/python3.11/site-packages (2.4.2)\n",
      "Requirement already satisfied: ipython>=6.0 in /Users/vgeekbranch/Library/Python/3.11/lib/python/site-packages (from watermark) (8.12.0)\n",
      "Requirement already satisfied: importlib-metadata>=1.4 in /Library/Frameworks/Python.framework/Versions/3.11/lib/python3.11/site-packages (from watermark) (6.7.0)\n",
      "Requirement already satisfied: py3nvml>=0.2 in /Library/Frameworks/Python.framework/Versions/3.11/lib/python3.11/site-packages (from watermark) (0.2.7)\n",
      "Requirement already satisfied: setuptools in /Library/Frameworks/Python.framework/Versions/3.11/lib/python3.11/site-packages (from watermark) (65.5.0)\n",
      "Requirement already satisfied: zipp>=0.5 in /Library/Frameworks/Python.framework/Versions/3.11/lib/python3.11/site-packages (from importlib-metadata>=1.4->watermark) (3.15.0)\n",
      "Requirement already satisfied: backcall in /Users/vgeekbranch/Library/Python/3.11/lib/python/site-packages (from ipython>=6.0->watermark) (0.2.0)\n",
      "Requirement already satisfied: decorator in /Users/vgeekbranch/Library/Python/3.11/lib/python/site-packages (from ipython>=6.0->watermark) (5.1.1)\n",
      "Requirement already satisfied: jedi>=0.16 in /Users/vgeekbranch/Library/Python/3.11/lib/python/site-packages (from ipython>=6.0->watermark) (0.18.2)\n",
      "Requirement already satisfied: matplotlib-inline in /Users/vgeekbranch/Library/Python/3.11/lib/python/site-packages (from ipython>=6.0->watermark) (0.1.6)\n",
      "Requirement already satisfied: pickleshare in /Users/vgeekbranch/Library/Python/3.11/lib/python/site-packages (from ipython>=6.0->watermark) (0.7.5)\n",
      "Requirement already satisfied: prompt-toolkit!=3.0.37,<3.1.0,>=3.0.30 in /Users/vgeekbranch/Library/Python/3.11/lib/python/site-packages (from ipython>=6.0->watermark) (3.0.38)\n",
      "Requirement already satisfied: pygments>=2.4.0 in /Users/vgeekbranch/Library/Python/3.11/lib/python/site-packages (from ipython>=6.0->watermark) (2.15.1)\n",
      "Requirement already satisfied: stack-data in /Users/vgeekbranch/Library/Python/3.11/lib/python/site-packages (from ipython>=6.0->watermark) (0.6.2)\n",
      "Requirement already satisfied: traitlets>=5 in /Users/vgeekbranch/Library/Python/3.11/lib/python/site-packages (from ipython>=6.0->watermark) (5.9.0)\n",
      "Requirement already satisfied: pexpect>4.3 in /Users/vgeekbranch/Library/Python/3.11/lib/python/site-packages (from ipython>=6.0->watermark) (4.8.0)\n",
      "Requirement already satisfied: appnope in /Users/vgeekbranch/Library/Python/3.11/lib/python/site-packages (from ipython>=6.0->watermark) (0.1.3)\n",
      "Requirement already satisfied: xmltodict in /Library/Frameworks/Python.framework/Versions/3.11/lib/python3.11/site-packages (from py3nvml>=0.2->watermark) (0.13.0)\n",
      "Requirement already satisfied: parso<0.9.0,>=0.8.0 in /Users/vgeekbranch/Library/Python/3.11/lib/python/site-packages (from jedi>=0.16->ipython>=6.0->watermark) (0.8.3)\n",
      "Requirement already satisfied: ptyprocess>=0.5 in /Users/vgeekbranch/Library/Python/3.11/lib/python/site-packages (from pexpect>4.3->ipython>=6.0->watermark) (0.7.0)\n",
      "Requirement already satisfied: wcwidth in /Users/vgeekbranch/Library/Python/3.11/lib/python/site-packages (from prompt-toolkit!=3.0.37,<3.1.0,>=3.0.30->ipython>=6.0->watermark) (0.2.6)\n",
      "Requirement already satisfied: executing>=1.2.0 in /Users/vgeekbranch/Library/Python/3.11/lib/python/site-packages (from stack-data->ipython>=6.0->watermark) (1.2.0)\n",
      "Requirement already satisfied: asttokens>=2.1.0 in /Users/vgeekbranch/Library/Python/3.11/lib/python/site-packages (from stack-data->ipython>=6.0->watermark) (2.2.1)\n",
      "Requirement already satisfied: pure-eval in /Users/vgeekbranch/Library/Python/3.11/lib/python/site-packages (from stack-data->ipython>=6.0->watermark) (0.2.2)\n",
      "Requirement already satisfied: six in /Library/Frameworks/Python.framework/Versions/3.11/lib/python3.11/site-packages (from asttokens>=2.1.0->stack-data->ipython>=6.0->watermark) (1.16.0)\n"
     ]
    }
   ],
   "source": [
    "!pip install watermark"
   ]
  },
  {
   "cell_type": "code",
   "execution_count": 44,
   "metadata": {},
   "outputs": [
    {
     "name": "stdout",
     "output_type": "stream",
     "text": [
      "Collecting statsmodels\n",
      "  Downloading statsmodels-0.14.0-cp310-cp310-macosx_10_9_x86_64.whl (9.9 MB)\n",
      "\u001b[2K     \u001b[38;2;114;156;31m━━━━━━━━━━━━━━━━━━━━━━━━━━━━━━━━━━━━━━━━\u001b[0m \u001b[32m9.9/9.9 MB\u001b[0m \u001b[31m1.6 MB/s\u001b[0m eta \u001b[36m0:00:00\u001b[0mm eta \u001b[36m0:00:01\u001b[0m0:01\u001b[0m:01\u001b[0m\n",
      "\u001b[?25hRequirement already satisfied: packaging>=21.3 in /Library/Frameworks/Python.framework/Versions/3.10/lib/python3.10/site-packages (from statsmodels) (23.1)\n",
      "Collecting patsy>=0.5.2\n",
      "  Using cached patsy-0.5.3-py2.py3-none-any.whl (233 kB)\n",
      "Requirement already satisfied: numpy>=1.18 in /Library/Frameworks/Python.framework/Versions/3.10/lib/python3.10/site-packages (from statsmodels) (1.24.3)\n",
      "Collecting scipy!=1.9.2,>=1.4\n",
      "  Downloading scipy-1.10.1-cp310-cp310-macosx_10_9_x86_64.whl (35.1 MB)\n",
      "\u001b[2K     \u001b[38;2;114;156;31m━━━━━━━━━━━━━━━━━━━━━━━━━━━━━━━━━━━━━━━━\u001b[0m \u001b[32m35.1/35.1 MB\u001b[0m \u001b[31m1.9 MB/s\u001b[0m eta \u001b[36m0:00:00\u001b[0mm eta \u001b[36m0:00:01\u001b[0m[36m0:00:01\u001b[0m\n",
      "\u001b[?25hRequirement already satisfied: pandas>=1.0 in /Library/Frameworks/Python.framework/Versions/3.10/lib/python3.10/site-packages (from statsmodels) (2.0.1)\n",
      "Requirement already satisfied: tzdata>=2022.1 in /Library/Frameworks/Python.framework/Versions/3.10/lib/python3.10/site-packages (from pandas>=1.0->statsmodels) (2023.3)\n",
      "Requirement already satisfied: python-dateutil>=2.8.2 in /Library/Frameworks/Python.framework/Versions/3.10/lib/python3.10/site-packages (from pandas>=1.0->statsmodels) (2.8.2)\n",
      "Requirement already satisfied: pytz>=2020.1 in /Library/Frameworks/Python.framework/Versions/3.10/lib/python3.10/site-packages (from pandas>=1.0->statsmodels) (2023.3)\n",
      "Requirement already satisfied: six in /Library/Frameworks/Python.framework/Versions/3.10/lib/python3.10/site-packages (from patsy>=0.5.2->statsmodels) (1.16.0)\n",
      "Installing collected packages: scipy, patsy, statsmodels\n",
      "Successfully installed patsy-0.5.3 scipy-1.10.1 statsmodels-0.14.0\n",
      "--- Logging error ---\n",
      "Traceback (most recent call last):\n",
      "  File \"/Library/Frameworks/Python.framework/Versions/3.10/lib/python3.10/site-packages/pip/_internal/utils/logging.py\", line 177, in emit\n",
      "    self.console.print(renderable, overflow=\"ignore\", crop=False, style=style)\n",
      "  File \"/Library/Frameworks/Python.framework/Versions/3.10/lib/python3.10/site-packages/pip/_vendor/rich/console.py\", line 1673, in print\n",
      "    extend(render(renderable, render_options))\n",
      "  File \"/Library/Frameworks/Python.framework/Versions/3.10/lib/python3.10/site-packages/pip/_vendor/rich/console.py\", line 1305, in render\n",
      "    for render_output in iter_render:\n",
      "  File \"/Library/Frameworks/Python.framework/Versions/3.10/lib/python3.10/site-packages/pip/_internal/utils/logging.py\", line 134, in __rich_console__\n",
      "    for line in lines:\n",
      "  File \"/Library/Frameworks/Python.framework/Versions/3.10/lib/python3.10/site-packages/pip/_vendor/rich/segment.py\", line 249, in split_lines\n",
      "    for segment in segments:\n",
      "  File \"/Library/Frameworks/Python.framework/Versions/3.10/lib/python3.10/site-packages/pip/_vendor/rich/console.py\", line 1283, in render\n",
      "    renderable = rich_cast(renderable)\n",
      "  File \"/Library/Frameworks/Python.framework/Versions/3.10/lib/python3.10/site-packages/pip/_vendor/rich/protocol.py\", line 36, in rich_cast\n",
      "    renderable = cast_method()\n",
      "  File \"/Library/Frameworks/Python.framework/Versions/3.10/lib/python3.10/site-packages/pip/_internal/self_outdated_check.py\", line 130, in __rich__\n",
      "    pip_cmd = get_best_invocation_for_this_pip()\n",
      "  File \"/Library/Frameworks/Python.framework/Versions/3.10/lib/python3.10/site-packages/pip/_internal/utils/entrypoints.py\", line 58, in get_best_invocation_for_this_pip\n",
      "    if found_executable and os.path.samefile(\n",
      "  File \"/Library/Frameworks/Python.framework/Versions/3.10/lib/python3.10/genericpath.py\", line 101, in samefile\n",
      "    s2 = os.stat(f2)\n",
      "FileNotFoundError: [Errno 2] No such file or directory: '/Library/Frameworks/Python.framework/Versions/3.10/bin/pip'\n",
      "Call stack:\n",
      "  File \"/Library/Frameworks/Python.framework/Versions/3.10/lib/python3.10/runpy.py\", line 196, in _run_module_as_main\n",
      "    return _run_code(code, main_globals, None,\n",
      "  File \"/Library/Frameworks/Python.framework/Versions/3.10/lib/python3.10/runpy.py\", line 86, in _run_code\n",
      "    exec(code, run_globals)\n",
      "  File \"/Library/Frameworks/Python.framework/Versions/3.10/lib/python3.10/site-packages/pip/__main__.py\", line 31, in <module>\n",
      "    sys.exit(_main())\n",
      "  File \"/Library/Frameworks/Python.framework/Versions/3.10/lib/python3.10/site-packages/pip/_internal/cli/main.py\", line 70, in main\n",
      "    return command.main(cmd_args)\n",
      "  File \"/Library/Frameworks/Python.framework/Versions/3.10/lib/python3.10/site-packages/pip/_internal/cli/base_command.py\", line 101, in main\n",
      "    return self._main(args)\n",
      "  File \"/Library/Frameworks/Python.framework/Versions/3.10/lib/python3.10/site-packages/pip/_internal/cli/base_command.py\", line 223, in _main\n",
      "    self.handle_pip_version_check(options)\n",
      "  File \"/Library/Frameworks/Python.framework/Versions/3.10/lib/python3.10/site-packages/pip/_internal/cli/req_command.py\", line 190, in handle_pip_version_check\n",
      "    pip_self_version_check(session, options)\n",
      "  File \"/Library/Frameworks/Python.framework/Versions/3.10/lib/python3.10/site-packages/pip/_internal/self_outdated_check.py\", line 236, in pip_self_version_check\n",
      "    logger.warning(\"[present-rich] %s\", upgrade_prompt)\n",
      "  File \"/Library/Frameworks/Python.framework/Versions/3.10/lib/python3.10/logging/__init__.py\", line 1489, in warning\n",
      "    self._log(WARNING, msg, args, **kwargs)\n",
      "  File \"/Library/Frameworks/Python.framework/Versions/3.10/lib/python3.10/logging/__init__.py\", line 1624, in _log\n",
      "    self.handle(record)\n",
      "  File \"/Library/Frameworks/Python.framework/Versions/3.10/lib/python3.10/logging/__init__.py\", line 1634, in handle\n",
      "    self.callHandlers(record)\n",
      "  File \"/Library/Frameworks/Python.framework/Versions/3.10/lib/python3.10/logging/__init__.py\", line 1696, in callHandlers\n",
      "    hdlr.handle(record)\n",
      "  File \"/Library/Frameworks/Python.framework/Versions/3.10/lib/python3.10/logging/__init__.py\", line 968, in handle\n",
      "    self.emit(record)\n",
      "  File \"/Library/Frameworks/Python.framework/Versions/3.10/lib/python3.10/site-packages/pip/_internal/utils/logging.py\", line 179, in emit\n",
      "    self.handleError(record)\n",
      "Message: '[present-rich] %s'\n",
      "Arguments: (UpgradePrompt(old='22.2.2', new='23.1.2'),)\n",
      "Note: you may need to restart the kernel to use updated packages.\n"
     ]
    }
   ],
   "source": [
    "pip install statsmodels"
   ]
  },
  {
   "attachments": {},
   "cell_type": "markdown",
   "metadata": {
    "id": "K5bwAO2GDwk_"
   },
   "source": [
    "Импортируем библиотеки:"
   ]
  },
  {
   "cell_type": "code",
   "execution_count": 59,
   "metadata": {
    "id": "Ma1jNky8DwCA"
   },
   "outputs": [],
   "source": [
    "import itertools\n",
    "import numpy as np\n",
    "import pandas as pd\n",
    "import matplotlib.pyplot as plt\n",
    "import seaborn as sns"
   ]
  },
  {
   "attachments": {},
   "cell_type": "markdown",
   "metadata": {
    "id": "Y0buKn09Fui8"
   },
   "source": [
    "## Анализ:\n"
   ]
  },
  {
   "attachments": {},
   "cell_type": "markdown",
   "metadata": {
    "id": "8RfNFOkZKT31"
   },
   "source": [
    "userid: уникальный номер, который идентифицирует каждого игрока.\n",
    "\n",
    "version = был ли игрок поставлен в контрольную группу (gate_30 - ворота 30 уровня) или в группу с перемещенными воротами (gate_40 - ворота 40 уровня).\n",
    "\n",
    "sumgamerounds = количество раундов, сыгранных каждым игроком в течение первых 14 дней после установки.\n",
    "\n",
    "retention_1 = вернулся ли игрок в игру через 1 день после установки.\n",
    "\n",
    "retention_7 = вернулся ли игрок в игру через 7 дней после установки."
   ]
  },
  {
   "cell_type": "code",
   "execution_count": 60,
   "metadata": {
    "colab": {
     "base_uri": "https://localhost:8080/",
     "height": 423
    },
    "id": "9pxX2OKeGROc",
    "outputId": "b0da549a-34f1-445a-eb61-e339057dbfa6"
   },
   "outputs": [
    {
     "data": {
      "text/html": [
       "<div>\n",
       "<style scoped>\n",
       "    .dataframe tbody tr th:only-of-type {\n",
       "        vertical-align: middle;\n",
       "    }\n",
       "\n",
       "    .dataframe tbody tr th {\n",
       "        vertical-align: top;\n",
       "    }\n",
       "\n",
       "    .dataframe thead th {\n",
       "        text-align: right;\n",
       "    }\n",
       "</style>\n",
       "<table border=\"1\" class=\"dataframe\">\n",
       "  <thead>\n",
       "    <tr style=\"text-align: right;\">\n",
       "      <th></th>\n",
       "      <th>userid</th>\n",
       "      <th>version</th>\n",
       "      <th>sum_gamerounds</th>\n",
       "      <th>retention_1</th>\n",
       "      <th>retention_7</th>\n",
       "    </tr>\n",
       "  </thead>\n",
       "  <tbody>\n",
       "    <tr>\n",
       "      <th>0</th>\n",
       "      <td>116</td>\n",
       "      <td>gate_30</td>\n",
       "      <td>3</td>\n",
       "      <td>0</td>\n",
       "      <td>0</td>\n",
       "    </tr>\n",
       "    <tr>\n",
       "      <th>1</th>\n",
       "      <td>337</td>\n",
       "      <td>gate_30</td>\n",
       "      <td>38</td>\n",
       "      <td>1</td>\n",
       "      <td>0</td>\n",
       "    </tr>\n",
       "    <tr>\n",
       "      <th>2</th>\n",
       "      <td>377</td>\n",
       "      <td>gate_40</td>\n",
       "      <td>165</td>\n",
       "      <td>1</td>\n",
       "      <td>0</td>\n",
       "    </tr>\n",
       "    <tr>\n",
       "      <th>3</th>\n",
       "      <td>483</td>\n",
       "      <td>gate_40</td>\n",
       "      <td>1</td>\n",
       "      <td>0</td>\n",
       "      <td>0</td>\n",
       "    </tr>\n",
       "    <tr>\n",
       "      <th>4</th>\n",
       "      <td>488</td>\n",
       "      <td>gate_40</td>\n",
       "      <td>179</td>\n",
       "      <td>1</td>\n",
       "      <td>1</td>\n",
       "    </tr>\n",
       "    <tr>\n",
       "      <th>...</th>\n",
       "      <td>...</td>\n",
       "      <td>...</td>\n",
       "      <td>...</td>\n",
       "      <td>...</td>\n",
       "      <td>...</td>\n",
       "    </tr>\n",
       "    <tr>\n",
       "      <th>90184</th>\n",
       "      <td>9999441</td>\n",
       "      <td>gate_40</td>\n",
       "      <td>97</td>\n",
       "      <td>1</td>\n",
       "      <td>0</td>\n",
       "    </tr>\n",
       "    <tr>\n",
       "      <th>90185</th>\n",
       "      <td>9999479</td>\n",
       "      <td>gate_40</td>\n",
       "      <td>30</td>\n",
       "      <td>0</td>\n",
       "      <td>0</td>\n",
       "    </tr>\n",
       "    <tr>\n",
       "      <th>90186</th>\n",
       "      <td>9999710</td>\n",
       "      <td>gate_30</td>\n",
       "      <td>28</td>\n",
       "      <td>1</td>\n",
       "      <td>0</td>\n",
       "    </tr>\n",
       "    <tr>\n",
       "      <th>90187</th>\n",
       "      <td>9999768</td>\n",
       "      <td>gate_40</td>\n",
       "      <td>51</td>\n",
       "      <td>1</td>\n",
       "      <td>0</td>\n",
       "    </tr>\n",
       "    <tr>\n",
       "      <th>90188</th>\n",
       "      <td>9999861</td>\n",
       "      <td>gate_40</td>\n",
       "      <td>16</td>\n",
       "      <td>0</td>\n",
       "      <td>0</td>\n",
       "    </tr>\n",
       "  </tbody>\n",
       "</table>\n",
       "<p>90189 rows × 5 columns</p>\n",
       "</div>"
      ],
      "text/plain": [
       "        userid  version  sum_gamerounds  retention_1  retention_7\n",
       "0          116  gate_30               3            0            0\n",
       "1          337  gate_30              38            1            0\n",
       "2          377  gate_40             165            1            0\n",
       "3          483  gate_40               1            0            0\n",
       "4          488  gate_40             179            1            1\n",
       "...        ...      ...             ...          ...          ...\n",
       "90184  9999441  gate_40              97            1            0\n",
       "90185  9999479  gate_40              30            0            0\n",
       "90186  9999710  gate_30              28            1            0\n",
       "90187  9999768  gate_40              51            1            0\n",
       "90188  9999861  gate_40              16            0            0\n",
       "\n",
       "[90189 rows x 5 columns]"
      ]
     },
     "execution_count": 60,
     "metadata": {},
     "output_type": "execute_result"
    }
   ],
   "source": [
    "df = pd.read_csv(r\"результаты А_B - cookie_cats 2.csv\", encoding= 'unicode_escape')\n",
    "df"
   ]
  },
  {
   "cell_type": "code",
   "execution_count": 61,
   "metadata": {
    "colab": {
     "base_uri": "https://localhost:8080/"
    },
    "id": "j4ME9i41M209",
    "outputId": "19899a96-6a7e-4ea4-c04e-4898bd6812e9"
   },
   "outputs": [
    {
     "data": {
      "text/plain": [
       "(90189, 5)"
      ]
     },
     "execution_count": 61,
     "metadata": {},
     "output_type": "execute_result"
    }
   ],
   "source": [
    "df.shape"
   ]
  },
  {
   "cell_type": "code",
   "execution_count": 62,
   "metadata": {
    "colab": {
     "base_uri": "https://localhost:8080/"
    },
    "id": "UiyDYEkdNJcv",
    "outputId": "68cc6bc2-10d0-4edc-d7f5-f143b269ff47"
   },
   "outputs": [
    {
     "name": "stdout",
     "output_type": "stream",
     "text": [
      "<class 'pandas.core.frame.DataFrame'>\n",
      "RangeIndex: 90189 entries, 0 to 90188\n",
      "Data columns (total 5 columns):\n",
      " #   Column          Non-Null Count  Dtype \n",
      "---  ------          --------------  ----- \n",
      " 0   userid          90189 non-null  int64 \n",
      " 1   version         90189 non-null  object\n",
      " 2   sum_gamerounds  90189 non-null  int64 \n",
      " 3   retention_1     90189 non-null  int64 \n",
      " 4   retention_7     90189 non-null  int64 \n",
      "dtypes: int64(4), object(1)\n",
      "memory usage: 3.4+ MB\n"
     ]
    }
   ],
   "source": [
    "df.info()"
   ]
  },
  {
   "cell_type": "code",
   "execution_count": 63,
   "metadata": {
    "colab": {
     "base_uri": "https://localhost:8080/"
    },
    "id": "qB_N8FAcNVDc",
    "outputId": "2d3d6437-5efa-4c51-96d4-d5989b25ece0"
   },
   "outputs": [
    {
     "data": {
      "text/plain": [
       "userid            0\n",
       "version           0\n",
       "sum_gamerounds    0\n",
       "retention_1       0\n",
       "retention_7       0\n",
       "dtype: int64"
      ]
     },
     "execution_count": 63,
     "metadata": {},
     "output_type": "execute_result"
    }
   ],
   "source": [
    "df.isnull().sum()"
   ]
  },
  {
   "attachments": {},
   "cell_type": "markdown",
   "metadata": {
    "id": "B2zImGl0Nu_0"
   },
   "source": [
    "удержание в течении 1 дня:\n"
   ]
  },
  {
   "cell_type": "code",
   "execution_count": 64,
   "metadata": {
    "colab": {
     "base_uri": "https://localhost:8080/"
    },
    "id": "re_9SQkQNh0l",
    "outputId": "b257cd2a-dc4a-432c-ec0e-28b3d130e92a"
   },
   "outputs": [
    {
     "data": {
      "text/plain": [
       "retention_1\n",
       "0    50036\n",
       "1    40153\n",
       "Name: count, dtype: int64"
      ]
     },
     "execution_count": 64,
     "metadata": {},
     "output_type": "execute_result"
    }
   ],
   "source": [
    "df.retention_1.value_counts()"
   ]
  },
  {
   "attachments": {},
   "cell_type": "markdown",
   "metadata": {
    "id": "OEjRHKrvTQzF"
   },
   "source": [
    "удержание в течении 7:"
   ]
  },
  {
   "cell_type": "code",
   "execution_count": 65,
   "metadata": {
    "colab": {
     "base_uri": "https://localhost:8080/"
    },
    "id": "RgfP1YihTPdd",
    "outputId": "53be6676-7d3a-461c-847e-4adce3c4dfa8"
   },
   "outputs": [
    {
     "data": {
      "text/plain": [
       "retention_7\n",
       "0    73408\n",
       "1    16781\n",
       "Name: count, dtype: int64"
      ]
     },
     "execution_count": 65,
     "metadata": {},
     "output_type": "execute_result"
    }
   ],
   "source": [
    "df.retention_7.value_counts()"
   ]
  },
  {
   "cell_type": "code",
   "execution_count": 66,
   "metadata": {
    "colab": {
     "base_uri": "https://localhost:8080/"
    },
    "id": "x9O7C5CMhSgc",
    "outputId": "b4ff91ed-6c55-49fc-8bf4-f99a6685b594"
   },
   "outputs": [
    {
     "data": {
      "text/plain": [
       "(90189, 5)"
      ]
     },
     "execution_count": 66,
     "metadata": {},
     "output_type": "execute_result"
    }
   ],
   "source": [
    "df.shape"
   ]
  },
  {
   "cell_type": "code",
   "execution_count": 67,
   "metadata": {
    "colab": {
     "base_uri": "https://localhost:8080/"
    },
    "id": "aaT27-Unh_ad",
    "outputId": "4cb7a614-707d-4769-cb50-95e97504a1be"
   },
   "outputs": [
    {
     "name": "stdout",
     "output_type": "stream",
     "text": [
      "########## Info #############\n",
      "<class 'pandas.core.frame.DataFrame'>\n",
      "RangeIndex: 90189 entries, 0 to 90188\n",
      "Data columns (total 5 columns):\n",
      " #   Column          Non-Null Count  Dtype \n",
      "---  ------          --------------  ----- \n",
      " 0   userid          90189 non-null  int64 \n",
      " 1   version         90189 non-null  object\n",
      " 2   sum_gamerounds  90189 non-null  int64 \n",
      " 3   retention_1     90189 non-null  int64 \n",
      " 4   retention_7     90189 non-null  int64 \n",
      "dtypes: int64(4), object(1)\n",
      "memory usage: 3.4+ MB\n",
      "None\n",
      "########## Shape #############\n",
      "(90189, 5)\n",
      "########## Data Types #############\n",
      "userid             int64\n",
      "version           object\n",
      "sum_gamerounds     int64\n",
      "retention_1        int64\n",
      "retention_7        int64\n",
      "dtype: object\n",
      "########## Head of Data #############\n",
      "   userid  version  sum_gamerounds  retention_1  retention_7\n",
      "0     116  gate_30               3            0            0\n",
      "1     337  gate_30              38            1            0\n",
      "2     377  gate_40             165            1            0\n",
      "3     483  gate_40               1            0            0\n",
      "4     488  gate_40             179            1            1\n",
      "########## Tail of Data #############\n",
      "        userid  version  sum_gamerounds  retention_1  retention_7\n",
      "90184  9999441  gate_40              97            1            0\n",
      "90185  9999479  gate_40              30            0            0\n",
      "90186  9999710  gate_30              28            1            0\n",
      "90187  9999768  gate_40              51            1            0\n",
      "90188  9999861  gate_40              16            0            0\n",
      "########## Null Values of Data #############\n",
      "userid            0\n",
      "version           0\n",
      "sum_gamerounds    0\n",
      "retention_1       0\n",
      "retention_7       0\n",
      "dtype: int64\n",
      "########## Describe of the Numerical Datas #############\n",
      "                  count          mean           std    min     0%        5%   \n",
      "userid          90189.0  4.998412e+06  2.883286e+06  116.0  116.0  502935.0  \\\n",
      "sum_gamerounds  90189.0  5.187246e+01  1.950509e+02    0.0    0.0       1.0   \n",
      "retention_1     90189.0  4.452095e-01  4.969917e-01    0.0    0.0       0.0   \n",
      "retention_7     90189.0  1.860648e-01  3.891611e-01    0.0    0.0       0.0   \n",
      "\n",
      "                      50%        95%         99%       100%        max  \n",
      "userid          4995815.0  9492761.6  9899751.28  9999861.0  9999861.0  \n",
      "sum_gamerounds       16.0      221.0      493.00    49854.0    49854.0  \n",
      "retention_1           0.0        1.0        1.00        1.0        1.0  \n",
      "retention_7           0.0        1.0        1.00        1.0        1.0  \n"
     ]
    }
   ],
   "source": [
    "def check_df(dataframe, head=5):\n",
    "    print(\"########## Info #############\")\n",
    "    print(dataframe.info())\n",
    "    print(\"########## Shape #############\")\n",
    "    print(dataframe.shape)\n",
    "    print(\"########## Data Types #############\")\n",
    "    print(dataframe.dtypes)\n",
    "    print(\"########## Head of Data #############\")\n",
    "    print(dataframe.head(head))\n",
    "    print(\"########## Tail of Data #############\")\n",
    "    print(dataframe.tail(head))\n",
    "    print(\"########## Null Values of Data #############\")\n",
    "    print(dataframe.isnull().sum())\n",
    "    print(\"########## Describe of the Numerical Datas #############\")\n",
    "    print(dataframe.describe([0, 0.05, 0.50, 0.95, 0.99, 1]).T)\n",
    "\n",
    "check_df(df)"
   ]
  },
  {
   "attachments": {},
   "cell_type": "markdown",
   "metadata": {
    "id": "QEmcN4kg4LBs"
   },
   "source": [
    "Согласно набора данных имеем 5 переменных:\n",
    "\n",
    "userid: уникальный номер каждого игрока.\n",
    "\n",
    "version: был ли игрок поставлен в контрольную группу (gate_30 - ворота 30 уровня) или в группу с перемещенными воротами (gate_40 - ворота 40 уровня).\n",
    "\n",
    "sum_gamerounds: количество игровых раундов, сыгранных игроком в течение первых 14.\n",
    "\n",
    "retention_1: вернулся ли игрок через 1 день?\n",
    "\n",
    "retention_7: вернулся ли игрок через 7 1 дней?\n",
    "\n",
    "\n",
    "\n",
    "\n",
    "Согласно быстрому анализу данных, в наборе данных нет нулевых данных, и все идентификаторы пользователей используются по отдельности."
   ]
  },
  {
   "attachments": {},
   "cell_type": "markdown",
   "metadata": {
    "id": "GDHCq0bH6TyZ"
   },
   "source": [
    "**Подготовка данных:**"
   ]
  },
  {
   "attachments": {},
   "cell_type": "markdown",
   "metadata": {
    "id": "NuKa0vqW7cLX"
   },
   "source": [
    "Удалаяем все нулевые значения из набора данных"
   ]
  },
  {
   "cell_type": "code",
   "execution_count": 68,
   "metadata": {
    "colab": {
     "base_uri": "https://localhost:8080/",
     "height": 112
    },
    "id": "Sf3Z6YSm7OeE",
    "outputId": "40757334-ebf5-49ae-debe-389c0113580d"
   },
   "outputs": [
    {
     "data": {
      "text/html": [
       "<div>\n",
       "<style scoped>\n",
       "    .dataframe tbody tr th:only-of-type {\n",
       "        vertical-align: middle;\n",
       "    }\n",
       "\n",
       "    .dataframe tbody tr th {\n",
       "        vertical-align: top;\n",
       "    }\n",
       "\n",
       "    .dataframe thead th {\n",
       "        text-align: right;\n",
       "    }\n",
       "</style>\n",
       "<table border=\"1\" class=\"dataframe\">\n",
       "  <thead>\n",
       "    <tr style=\"text-align: right;\">\n",
       "      <th></th>\n",
       "      <th>count</th>\n",
       "      <th>mean</th>\n",
       "      <th>std</th>\n",
       "      <th>min</th>\n",
       "      <th>25%</th>\n",
       "      <th>50%</th>\n",
       "      <th>75%</th>\n",
       "      <th>max</th>\n",
       "    </tr>\n",
       "  </thead>\n",
       "  <tbody>\n",
       "    <tr>\n",
       "      <th>userid</th>\n",
       "      <td>90189.0</td>\n",
       "      <td>4.998412e+06</td>\n",
       "      <td>2.883286e+06</td>\n",
       "      <td>116.0</td>\n",
       "      <td>2512230.0</td>\n",
       "      <td>4995815.0</td>\n",
       "      <td>7496452.0</td>\n",
       "      <td>9999861.0</td>\n",
       "    </tr>\n",
       "    <tr>\n",
       "      <th>sum_gamerounds</th>\n",
       "      <td>90189.0</td>\n",
       "      <td>5.187246e+01</td>\n",
       "      <td>1.950509e+02</td>\n",
       "      <td>0.0</td>\n",
       "      <td>5.0</td>\n",
       "      <td>16.0</td>\n",
       "      <td>51.0</td>\n",
       "      <td>49854.0</td>\n",
       "    </tr>\n",
       "    <tr>\n",
       "      <th>retention_1</th>\n",
       "      <td>90189.0</td>\n",
       "      <td>4.452095e-01</td>\n",
       "      <td>4.969917e-01</td>\n",
       "      <td>0.0</td>\n",
       "      <td>0.0</td>\n",
       "      <td>0.0</td>\n",
       "      <td>1.0</td>\n",
       "      <td>1.0</td>\n",
       "    </tr>\n",
       "    <tr>\n",
       "      <th>retention_7</th>\n",
       "      <td>90189.0</td>\n",
       "      <td>1.860648e-01</td>\n",
       "      <td>3.891611e-01</td>\n",
       "      <td>0.0</td>\n",
       "      <td>0.0</td>\n",
       "      <td>0.0</td>\n",
       "      <td>0.0</td>\n",
       "      <td>1.0</td>\n",
       "    </tr>\n",
       "  </tbody>\n",
       "</table>\n",
       "</div>"
      ],
      "text/plain": [
       "                  count          mean           std    min        25%   \n",
       "userid          90189.0  4.998412e+06  2.883286e+06  116.0  2512230.0  \\\n",
       "sum_gamerounds  90189.0  5.187246e+01  1.950509e+02    0.0        5.0   \n",
       "retention_1     90189.0  4.452095e-01  4.969917e-01    0.0        0.0   \n",
       "retention_7     90189.0  1.860648e-01  3.891611e-01    0.0        0.0   \n",
       "\n",
       "                      50%        75%        max  \n",
       "userid          4995815.0  7496452.0  9999861.0  \n",
       "sum_gamerounds       16.0       51.0    49854.0  \n",
       "retention_1           0.0        1.0        1.0  \n",
       "retention_7           0.0        0.0        1.0  "
      ]
     },
     "execution_count": 68,
     "metadata": {},
     "output_type": "execute_result"
    }
   ],
   "source": [
    "df.shape\n",
    "df.isnull().sum()\n",
    "df.dropna(inplace = True)\n",
    "\n",
    "df.describe().T"
   ]
  },
  {
   "attachments": {},
   "cell_type": "markdown",
   "metadata": {
    "id": "geRxt1ns9PCe"
   },
   "source": [
    "**Нормальное распределение:**"
   ]
  },
  {
   "attachments": {},
   "cell_type": "markdown",
   "metadata": {
    "id": "ztY2cCR09ZTh"
   },
   "source": [
    "H0: Верно предположение о нормальном распределении.\n",
    "H1: Ложь.\n",
    "\n",
    "Если p-значение < 0,05, то мы отклоняем нулевую гипотезу в пользу альтернативной.\n",
    "\n",
    "Если p-значение > 0,05, то тогда мы принимаем нулевую гипотезу.\n",
    "\n"
   ]
  },
  {
   "attachments": {},
   "cell_type": "markdown",
   "metadata": {
    "id": "tBYEdLSg-xPX"
   },
   "source": [
    " Контроль нормального распределения для gate_30:"
   ]
  },
  {
   "cell_type": "code",
   "execution_count": 69,
   "metadata": {
    "colab": {
     "base_uri": "https://localhost:8080/"
    },
    "id": "rvOElYkv-X55",
    "outputId": "b641ff34-abd0-4f7f-e3c1-de751d4b5f65"
   },
   "outputs": [
    {
     "name": "stdout",
     "output_type": "stream",
     "text": [
      "Test Stat = 0.0881, p-value = 0.0000\n"
     ]
    },
    {
     "name": "stderr",
     "output_type": "stream",
     "text": [
      "/Library/Frameworks/Python.framework/Versions/3.10/lib/python3.10/site-packages/scipy/stats/_morestats.py:1816: UserWarning: p-value may not be accurate for N > 5000.\n",
      "  warnings.warn(\"p-value may not be accurate for N > 5000.\")\n"
     ]
    }
   ],
   "source": [
    "test_stat, pvalue = shapiro(df.loc[df[\"version\"] == \"gate_30\", \"sum_gamerounds\"])\n",
    "print(\"Test Stat = %.4f, p-value = %.4f\" % (test_stat, pvalue))"
   ]
  },
  {
   "attachments": {},
   "cell_type": "markdown",
   "metadata": {
    "id": "Judi97Qr_obn"
   },
   "source": [
    "Контроль нормального распределения для gate_40:"
   ]
  },
  {
   "cell_type": "code",
   "execution_count": 70,
   "metadata": {
    "colab": {
     "base_uri": "https://localhost:8080/"
    },
    "id": "CSvu_hbh_0tm",
    "outputId": "1e06729d-b1c8-4393-9b45-b486035dbe0a"
   },
   "outputs": [
    {
     "name": "stdout",
     "output_type": "stream",
     "text": [
      "Test Stat = 0.4826, p-value = 0.0000\n"
     ]
    }
   ],
   "source": [
    "test_stat, pvalue = shapiro(df.loc[df[\"version\"] == \"gate_40\", \"sum_gamerounds\"])\n",
    "print(\"Test Stat = %.4f, p-value = %.4f\" % (test_stat, pvalue))"
   ]
  },
  {
   "attachments": {},
   "cell_type": "markdown",
   "metadata": {
    "id": "Qpfxnr_eAodA"
   },
   "source": [
    "Вывод:"
   ]
  },
  {
   "attachments": {},
   "cell_type": "markdown",
   "metadata": {
    "id": "OLFk5HFfA3Ey"
   },
   "source": [
    "Поскольку для обеих групп (gate_30 и gate_40) p-value < 0.05, то делаем вывод:\n",
    "\n",
    "Предположение о нормальном распределении для обеих групп - неверно."
   ]
  },
  {
   "attachments": {},
   "cell_type": "markdown",
   "metadata": {
    "id": "bVeD_TtlDEHW"
   },
   "source": [
    "**Допущение однородности дисперсии:**"
   ]
  },
  {
   "attachments": {},
   "cell_type": "markdown",
   "metadata": {
    "id": "98cu_VSCDO9c"
   },
   "source": [
    "Уровень дисперсии для конкретной переменной постоянен по всей выборке. Так как группы данных собраны - это означает, что дисперсия наших переменных должна быть одинаковой в каждой из этих групп (т.е. по группам тестирования или прогнозируемым значениям)."
   ]
  },
  {
   "attachments": {},
   "cell_type": "markdown",
   "metadata": {
    "id": "-YSHLNeFE9DX"
   },
   "source": [
    "Предположение об однородности дисперсии:\n",
    "\n",
    "H0: дисперсия однородна.\n",
    "\n",
    "H1: дисперсия не является однородной.\n",
    "\n",
    "Если p-value < 0,05, то мы отвергаем нулевую гипотезу в пользу альтернативной\n",
    "\n",
    "Если p-value > 0,05, то тогды мы принимаем нулевую гипотезу."
   ]
  },
  {
   "cell_type": "code",
   "execution_count": 71,
   "metadata": {
    "colab": {
     "base_uri": "https://localhost:8080/"
    },
    "id": "3_wbjKFBFvPo",
    "outputId": "88b49a8f-4cee-4d80-d662-16738ce36f92"
   },
   "outputs": [
    {
     "name": "stdout",
     "output_type": "stream",
     "text": [
      "Test Stat = 0.5292, p-value = 0.4669\n"
     ]
    }
   ],
   "source": [
    "test_stat, pvalue = levene(df.loc[df[\"version\"] == \"gate_30\", \"sum_gamerounds\"],\n",
    "                            df.loc[df[\"version\"] == \"gate_40\", \"sum_gamerounds\"])\n",
    "print(\"Test Stat = %.4f, p-value = %.4f\" % (test_stat, pvalue))"
   ]
  },
  {
   "attachments": {},
   "cell_type": "markdown",
   "metadata": {
    "id": "5SpDL2cPF7lo"
   },
   "source": [
    "**Вывод**:\n",
    "\n",
    "так как p-value > 0.05, то дисперсия однородна."
   ]
  },
  {
   "attachments": {},
   "cell_type": "markdown",
   "metadata": {
    "id": "DVStyNOcNGcX"
   },
   "source": [
    "**Применение гипотез:**\n",
    "\n",
    "Согласно «нормальному распределению» и «предположению об однородности дисперсии» показано, что первый контроль не принимает нулевую гипотезу, а второй принимает её. Это означает, что неоходимо использовать команду mannwtihneyu() для применения гипотезы.\n",
    "\n",
    "Критерий Манна-Уитни основан на сравнении каждого наблюдения xi в первой выборке с каждым наблюдением yj в другой выборке. Общее количество попарных сравнений, которые можно сделать, равно nxny.1"
   ]
  },
  {
   "cell_type": "code",
   "execution_count": 72,
   "metadata": {
    "colab": {
     "base_uri": "https://localhost:8080/"
    },
    "id": "MLe7XNrrOCD-",
    "outputId": "9e7b8a42-3e09-4681-dec0-ab71021c782c"
   },
   "outputs": [
    {
     "name": "stdout",
     "output_type": "stream",
     "text": [
      "Test Stat = 1024331250.5000, p-value = 0.0502\n"
     ]
    }
   ],
   "source": [
    "test_stat, pvalue = mannwhitneyu(df.loc[df[\"version\"] == \"gate_30\", \"sum_gamerounds\"],\n",
    "                            df.loc[df[\"version\"] == \"gate_40\", \"sum_gamerounds\"])\n",
    "print(\"Test Stat = %.4f, p-value = %.4f\" % (test_stat, pvalue))"
   ]
  },
  {
   "attachments": {},
   "cell_type": "markdown",
   "metadata": {
    "id": "IBIaOAgzOYGC"
   },
   "source": [
    "### Так как p-value > 0.05 то мы приманием нулевую гипотезу  о равенстве средних значений двух выборок между игровыми группами gate_30 и gate_40"
   ]
  },
  {
   "attachments": {},
   "cell_type": "markdown",
   "metadata": {
    "id": "e5ucJ3rBQQUs"
   },
   "source": [
    "### ИТОГ:\n",
    "\n",
    "Заключение и рекомендация.\n",
    "\n",
    "Согласно результатам A/B-тестирования, чтобы выяснить, как «gate_30» и «gate_40» влияют на общее количество игровых раундов, сыгранных в игре?\n",
    "\n",
    "В первом процессе тестирования мы спрашиваем, как «средства равны или нет» для примера, описанного выше. Чтобы выяснить это, сначала проверили нормальное распределение и предположение об однородности дисперсии, распределены ли они нормально или нет? A/B-тестирование говорит, что если нормальное распределение не равно, вам следует использовать U-критерий Манна-Уитни, чтобы выяснить влияние «gate_30» и «gate_40».\n",
    "\n",
    "Результат U-критерия Манна-Уитни, p-value рассчитано как 0,0502, и это означает, что нулевую невозможно отклонить в соответствии с предположением гипотезы, и его значение для A/B-тестирования, результаты для обоих групп(gate_30 и gate_40) были получены случайно.\n",
    "\n",
    "Исходя из результатов эксперимента, мы не можем однозначно сказать, что использование «gate_30» или «gate_40» влияет на общее количество игровых раундов. Мы не можем отвергнуть гипотезу, что различия между группами случайны.\n",
    "\n",
    "Наша рекомендация для менеджера заключается в том, чтобы продолжать мониторить результаты и дополнительные данные эксперимента. Можно провести более широкие и продолжительные тесты, чтобы более полно оценить потенциальное влияние каждого «гейта» на игровой процесс. Также можно более подробно рассмотреть конкретные пользовательские данные, чтобы понять, есть ли какие-то сегменты пользователей, где один из «гейтов» работает лучше, чем другой."
   ]
  }
 ],
 "metadata": {
  "colab": {
   "provenance": []
  },
  "kernelspec": {
   "display_name": "Python 3 (ipykernel)",
   "language": "python",
   "name": "python3"
  },
  "language_info": {
   "codemirror_mode": {
    "name": "ipython",
    "version": 3
   },
   "file_extension": ".py",
   "mimetype": "text/x-python",
   "name": "python",
   "nbconvert_exporter": "python",
   "pygments_lexer": "ipython3",
   "version": "3.10.8"
  }
 },
 "nbformat": 4,
 "nbformat_minor": 1
}
